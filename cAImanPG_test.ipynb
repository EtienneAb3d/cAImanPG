{
 "cells": [
  {
   "cell_type": "code",
   "execution_count": null,
   "metadata": {},
   "outputs": [],
   "source": [
    "from AgentCooking import AgentCooking\n",
    "test_agent = AgentCooking()\n",
    "test_question = \"Donne-moi une recette des crêpes galettes à l'andouille avec du Porto.\"\n",
    "print(\"Analyzing...\")\n",
    "answer = test_agent.chat_assistant(test_question)\n",
    "print(answer)\n"
   ]
  },
  {
   "cell_type": "code",
   "execution_count": null,
   "metadata": {},
   "outputs": [],
   "source": [
    "from AgentComputer import AgentComputer\n",
    "test_agent = AgentComputer()\n",
    "test_question = \"My computer is not running as fast as by the past.\"\n",
    "print(\"Analyzing...\")\n",
    "answer = test_agent.chat_assistant(test_question)\n",
    "print(answer)\n"
   ]
  },
  {
   "cell_type": "code",
   "execution_count": null,
   "metadata": {},
   "outputs": [],
   "source": [
    "from AgentDispatcher import AgentDispatcher\n",
    "test_agent = AgentDispatcher()\n",
    "test_question = (\n",
    "    # \"Salut, ça va ?\"\n",
    "    \"Mon PC ne marche plus, je ne peux plus accéder à internet. En plus, mon chien a la truffe chaude. J'ai besoin d'une recette pour des crêpes aux morilles. Quel vin mettre avec ?\"\n",
    "    )\n",
    "print(\"Analyzing...\")\n",
    "dispatch = test_agent.dispatch(test_question)\n",
    "print(f\"Dispatcher result:\\n{str(dispatch)}\")\n"
   ]
  },
  {
   "cell_type": "code",
   "execution_count": null,
   "metadata": {},
   "outputs": [
    {
     "name": "stdout",
     "output_type": "stream",
     "text": [
      "Dispatcher:\n",
      "```json\n",
      "[\n",
      "    [\"Computer\", \"Pourquoi mon PC ne s'allume pas ?\"]\n",
      "]\n",
      "```\n",
      "\n",
      "\n",
      "##### Question from Dispatcher Agent to Computer Agent:\n",
      "Pourquoi mon PC ne s'allume pas ?\n",
      "\n",
      "For this problem: Computer won't turn on\n",
      "Follow these instructions:\n",
      "- Check if the power cable is properly connected to the computer and the power outlet.\n",
      "- Ensure the power outlet is working by testing another device.\n",
      "- Press the power button firmly for at least 5 seconds.\n",
      "- If the computer still doesn't turn on, try using a different power cable.\n",
      "- Inspect the power supply unit for any visible damage or loose connections.\n",
      "- If all else fails, consult a professional technician.\n",
      "\n",
      "#### All dispatches done ####\n",
      "\n",
      "Support answer:\n",
      "Bonjour Slvy, pour vous aider avec votre PC qui ne s'allume pas, veuillez suivre ces étapes simples :\n",
      "\n",
      "1. Vérifiez si le câble d'alimentation est correctement connecté à votre ordinateur et à la prise de courant.\n",
      "2. Assurez-vous que la prise de courant fonctionne en testant avec un autre appareil.\n",
      "3. Pressezz le bouton de puissance de votre ordinateur fermement pendant au moins 5 secondes.\n",
      "4. Si le problème persiste, essayez avec un autre câble d'alimentation.\n",
      "5. Examinez le module de puissance pour voir si il a des dommages visibles ou des connexions mal établies.\n",
      "6. Si rien ne fonctionne, il est recommandé de contacter un technicien qualifié.\n",
      "\n",
      "Si vous avez besoin d'aide pour faire un hamburger, n'hésitez pas à demander ! 😊\n",
      "\n",
      "\n"
     ]
    }
   ],
   "source": [
    "from AgentSupport import AgentSupport\n",
    "import asyncio\n",
    "\n",
    "agent = AgentSupport()\n",
    "answer = agent.chat_assistant(\n",
    "    \"Bonjour, je m'appelle Roger, je suis à la maison avec mon chat. Où puis-je lui trouver à manger ? Quand je cherche sur internet, ça prend trop de temps à répondre et je l'audio est trop mauvais.\"\n",
    "    # \"Salut, c'est Slvy. Je voudrais me faire un hamburger, mais mon PC ne s'allume pas.\"\n",
    "    )\n",
    "print(f\"Support answer:\\n{answer}\")\n"
   ]
  }
 ],
 "metadata": {
  "kernelspec": {
   "display_name": ".venv",
   "language": "python",
   "name": "python3"
  },
  "language_info": {
   "codemirror_mode": {
    "name": "ipython",
    "version": 3
   },
   "file_extension": ".py",
   "mimetype": "text/x-python",
   "name": "python",
   "nbconvert_exporter": "python",
   "pygments_lexer": "ipython3",
   "version": "3.12.3"
  }
 },
 "nbformat": 4,
 "nbformat_minor": 2
}
