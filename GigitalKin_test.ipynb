{
 "cells": [
  {
   "cell_type": "code",
   "execution_count": 1,
   "metadata": {},
   "outputs": [
    {
     "name": "stdout",
     "output_type": "stream",
     "text": [
      "Analyzing...\n",
      "For this problem: Computer running slow\n",
      "Follow these instructions:\n",
      "- Restart the computer to clear temporary glitches.\n",
      "- Check for available disk space and clear unnecessary files.\n",
      "- Run a full antivirus scan to rule out malware.\n",
      "- Disable startup programs that are not needed immediately.\n",
      "- Increase virtual memory, if possible.\n",
      "- Consider upgrading hardware components like RAM or switching to an SSD.\n"
     ]
    }
   ],
   "source": [
    "from AgentComputer import AgentComputer\n",
    "test_agent = AgentComputer()\n",
    "test_question = \"My computer is not running as fast as by the past.\"\n",
    "print(\"Analyzing...\")\n",
    "answer = test_agent.chat_assistant(test_question)\n",
    "print(answer)\n"
   ]
  },
  {
   "cell_type": "code",
   "execution_count": 2,
   "metadata": {},
   "outputs": [
    {
     "name": "stdout",
     "output_type": "stream",
     "text": [
      "Analyzing...\n",
      "Bien sûr, voici une recette simple pour une galette à l'andouille avec du Porto.\n",
      "\n",
      "Ingrédients :\n",
      "- 4 galettes de blé noir (sarrasin)\n",
      "- 200g d'andouille\n",
      "- 100g de fromage râpé (de préférence du Comté ou de l'Emmental)\n",
      "- 4 cuillères à soupe de Porto\n",
      "- Sel et poivre\n",
      "\n",
      "Instructions :\n",
      "1. Préchauffez votre four à 180°C (thermostat 6).\n",
      "2. Coupez l'andouille en fines tranches.\n",
      "3. Disposez les galettes sur une plaque de cuisson recouverte de papier sulfurisé.\n",
      "4. Répartissez l'andouille et le fromage râpé sur chaque galette.\n",
      "5. Arrosez chaque galette avec une cuillère à soupe de Porto.\n",
      "6. Assaisonnez avec du sel et du poivre selon votre goût.\n",
      "7. Repliez les bords des galettes vers le centre pour former une sorte de carré.\n",
      "8. Enfournez pendant 15 minutes ou jusqu'à ce que les galettes soient dorées et croustillantes.\n",
      "\n",
      "Cette galette à l'andouille et au Porto se marie parfaitement avec un vin rouge corsé comme un Côtes du Rhône. Bon appétit !\n"
     ]
    }
   ],
   "source": [
    "from AgentCooking import AgentCooking\n",
    "test_agent = AgentCooking()\n",
    "test_question = \"Donne-moi une recette de galette à l'andouille avec du Porto.\"\n",
    "print(\"Analyzing...\")\n",
    "answer = test_agent.chat_assistant(test_question)\n",
    "print(answer)\n"
   ]
  },
  {
   "cell_type": "code",
   "execution_count": null,
   "metadata": {},
   "outputs": [
    {
     "name": "stdout",
     "output_type": "stream",
     "text": [
      "Question from Support Agent to ask_cooking_expert Agent: Quels sont les meilleurs endroits pour trouver de la nourriture pour chat ?\n",
      "Je suis désolé, mais je suis un chef spécialisé dans la cuisine française et je ne peux vous aider qu'avec des recettes. Je ne suis pas en mesure de vous donner des conseils sur où trouver de la nourriture pour chat.\n",
      "Support answer:\n",
      "Bonjour Roger, \n",
      "\n",
      "Je suis désolé pour la confusion. En tant qu'agent de support, je peux vous aider avec des problèmes techniques, mais je ne suis pas un expert en nourriture pour chat. Cependant, je peux vous suggérer de vérifier dans les supermarchés locaux ou les animaleries, ils ont généralement une variété de nourriture pour chat. \n",
      "\n",
      "En ce qui concerne votre problème Internet, il semble que vous ayez des problèmes de vitesse de connexion et de qualité audio. Pourriez-vous me donner plus de détails sur ces problèmes ? Cela m'aidera à identifier un expert en informatique qui pourrait vous aider.\n",
      "\n",
      "\n"
     ]
    }
   ],
   "source": [
    "from AgentSupport import AgentSupport\n",
    "import asyncio\n",
    "\n",
    "agent = AgentSupport()\n",
    "answer = agent.chat_assistant(\n",
    "    # \"Bonjour, je m'appelle Roger, je suis à la maison avec mon chat. Où puis-je lui trouver à manger ? Quand je cherche sur internet, ça prend trop de temps à répondre et je l'audio est trop mauvais.\"\n",
    "    \"Salut, c'est Slvy. Je voudrais me faire un hamburger, mais mon PC ne s'allume pas.\"\n",
    "    )\n",
    "print(f\"Support answer:\\n{answer}\")\n"
   ]
  }
 ],
 "metadata": {
  "kernelspec": {
   "display_name": ".venv",
   "language": "python",
   "name": "python3"
  },
  "language_info": {
   "codemirror_mode": {
    "name": "ipython",
    "version": 3
   },
   "file_extension": ".py",
   "mimetype": "text/x-python",
   "name": "python",
   "nbconvert_exporter": "python",
   "pygments_lexer": "ipython3",
   "version": "3.12.3"
  }
 },
 "nbformat": 4,
 "nbformat_minor": 2
}
