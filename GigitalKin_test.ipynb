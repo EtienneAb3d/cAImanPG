{
 "cells": [
  {
   "cell_type": "code",
   "execution_count": 1,
   "metadata": {},
   "outputs": [
    {
     "name": "stdout",
     "output_type": "stream",
     "text": [
      "Analyzing...\n",
      "For this problem: Computer running slow\n",
      "Follow these instructions:\n",
      "- Restart the computer to clear temporary glitches.\n",
      "- Check for available disk space and clear unnecessary files.\n",
      "- Run a full antivirus scan to rule out malware.\n",
      "- Disable startup programs that are not needed immediately.\n",
      "- Increase virtual memory, if possible.\n",
      "- Consider upgrading hardware components like RAM or switching to an SSD.\n"
     ]
    }
   ],
   "source": [
    "from AgentExpert import AgentExpert\n",
    "test_agent = AgentExpert()\n",
    "test_question = \"My computer is not running as fast as by the past.\"\n",
    "print(\"Analyzing...\")\n",
    "answer = test_agent.get_technical_answer(test_question)\n",
    "print(answer)\n"
   ]
  },
  {
   "cell_type": "code",
   "execution_count": null,
   "metadata": {},
   "outputs": [
    {
     "name": "stdout",
     "output_type": "stream",
     "text": [
      "Analyzing...\n",
      "For this problem: Computer running slow\n",
      "Follow these instructions:\n",
      "- Restart the computer to clear temporary glitches.\n",
      "- Check for available disk space and clear unnecessary files.\n",
      "- Run a full antivirus scan to rule out malware.\n",
      "- Disable startup programs that are not needed immediately.\n",
      "- Increase virtual memory, if possible.\n",
      "- Consider upgrading hardware components like RAM or switching to an SSD.\n",
      "Support answer:\n",
      "Bonjour Roger,\n",
      "\n",
      "Il semble que votre ordinateur puisse être un peu lent, ce qui pourrait être la cause de la lenteur de vos recherches sur Internet. Voici quelques étapes que vous pouvez suivre pour essayer de résoudre ce problème :\n",
      "\n",
      "1. Redémarrez votre ordinateur. Cela peut aider à éliminer les petits problèmes temporaires.\n",
      "2. Vérifiez l'espace disponible sur votre disque dur. Si votre disque est presque plein, cela peut ralentir votre ordinateur. Essayez de supprimer les fichiers inutiles pour libérer de l'espace.\n",
      "3. Effectuez une analyse antivirus complète. Parfois, les logiciels malveillants peuvent ralentir votre ordinateur.\n",
      "4. Désactivez les programmes qui se lancent automatiquement au démarrage de votre ordinateur et qui ne sont pas nécessaires immédiatement.\n",
      "5. Si possible, augmentez la mémoire virtuelle de votre ordinateur.\n",
      "6. Enfin, si ces étapes ne résolvent pas le problème, vous pourriez envisager de mettre à niveau certains composants matériels de votre ordinateur, comme la RAM ou de passer à un disque SSD.\n",
      "\n",
      "J'espère que ces suggestions vous aideront à améliorer la vitesse de votre ordinateur et, par conséquent, la vitesse de vos recherches sur Internet.\n",
      "\n",
      "\n"
     ]
    }
   ],
   "source": [
    "from AgentSupport import AgentSupport\n",
    "import asyncio\n",
    "\n",
    "agent = AgentSupport()\n",
    "async for answer in agent.start_chat(\n",
    "    # \"Bonjour, je m'appelle Roger, Quand je cherche sur internet, ça prend trop de temps à répondre.\"\n",
    "    \"Bonjour, je m'appelle Roger, je suis à la maison avec mon chat. Où puis-je lui trouver à manger ? Quand je cherche sur internet, ça prend trop de temps à répondre.\"\n",
    "    ):\n",
    "    print(f\"Support answer:\\n{answer}\")\n"
   ]
  }
 ],
 "metadata": {
  "kernelspec": {
   "display_name": ".venv",
   "language": "python",
   "name": "python3"
  },
  "language_info": {
   "codemirror_mode": {
    "name": "ipython",
    "version": 3
   },
   "file_extension": ".py",
   "mimetype": "text/x-python",
   "name": "python",
   "nbconvert_exporter": "python",
   "pygments_lexer": "ipython3",
   "version": "3.12.3"
  }
 },
 "nbformat": 4,
 "nbformat_minor": 2
}
