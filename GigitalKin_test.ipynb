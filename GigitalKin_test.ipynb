{
 "cells": [
  {
   "cell_type": "code",
   "execution_count": 5,
   "metadata": {},
   "outputs": [
    {
     "name": "stdout",
     "output_type": "stream",
     "text": [
      "Analyzing...\n",
      "For this problem: Computer running slow\n",
      "Follow these instructions:\n",
      "- Restart the computer to clear temporary glitches.\n",
      "- Check for available disk space and clear unnecessary files.\n",
      "- Run a full antivirus scan to rule out malware.\n",
      "- Disable startup programs that are not needed immediately.\n",
      "- Increase virtual memory, if possible.\n",
      "- Consider upgrading hardware components like RAM or switching to an SSD.\n"
     ]
    }
   ],
   "source": [
    "from AgentExpert import AgentExpert\n",
    "test_agent = AgentExpert()\n",
    "test_question = \"My computer is not running as fast as by the past.\"\n",
    "print(\"Analyzing...\")\n",
    "answer = test_agent.get_technical_answer(test_question)\n",
    "print(answer)\n"
   ]
  },
  {
   "cell_type": "code",
   "execution_count": null,
   "metadata": {},
   "outputs": [],
   "source": [
    "from AgentSupport import AgentSupport\n",
    "import asyncio\n",
    "\n",
    "agent = AgentSupport()\n",
    "async for answer in agent.start_chat(\n",
    "    # \"Bonjour, je m'appelle Roger, Quand je cherche sur internet, ça prend trop de temps à répondre.\"\n",
    "    \"Bonjour, je m'appelle Roger, je suis à la maison avec mon chat. Où puis-je lui trouver à manger ? Quand je cherche sur internet, ça prend trop de temps à répondre.\"\n",
    "    ):\n",
    "    print(f\"Support answer:\\n{answer}\")\n"
   ]
  }
 ],
 "metadata": {
  "kernelspec": {
   "display_name": ".venv",
   "language": "python",
   "name": "python3"
  },
  "language_info": {
   "codemirror_mode": {
    "name": "ipython",
    "version": 3
   },
   "file_extension": ".py",
   "mimetype": "text/x-python",
   "name": "python",
   "nbconvert_exporter": "python",
   "pygments_lexer": "ipython3",
   "version": "3.12.3"
  }
 },
 "nbformat": 4,
 "nbformat_minor": 2
}
