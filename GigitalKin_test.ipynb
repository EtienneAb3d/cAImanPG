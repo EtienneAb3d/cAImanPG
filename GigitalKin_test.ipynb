{
 "cells": [
  {
   "cell_type": "code",
   "execution_count": null,
   "metadata": {},
   "outputs": [],
   "source": [
    "from AgentComputer import AgentComputer\n",
    "test_agent = AgentComputer()\n",
    "test_question = \"My computer is not running as fast as by the past.\"\n",
    "print(\"Analyzing...\")\n",
    "answer = test_agent.chat_assistant(test_question)\n",
    "print(answer)\n"
   ]
  },
  {
   "cell_type": "code",
   "execution_count": null,
   "metadata": {},
   "outputs": [
    {
     "name": "stdout",
     "output_type": "stream",
     "text": [
      "Analyzing...\n",
      "Dispatcher:\n",
      " [\n",
      "    [\"Computer\", \"What is the specific issue with the user's computer that prevents internet access?\"],\n",
      "    [\"Computer\", \"What are the steps taken to troubleshoot the computer issue?\"],\n",
      "    [\"Other\", \"The user mentions their dog having a hot nose. Is this relevant to the conversation?\"],\n",
      "    [\"Cooking\", \"The user is asking for a recipe for crepes with morels. What is the appropriate cooking method for this dish?\"],\n",
      "    [\"Cooking\", \"What is the recommended serving size for crepes with morels?\"],\n",
      "    [\"Cooking\", \"What type of wine complements crepes with morels?\"]\n",
      "]\n",
      "Question from Dispatcher Agent to Computer Agent: What is the specific issue with the user's computer that prevents internet access?\n",
      "For this problem: No internet connection\n",
      "Follow these instructions:\n",
      "- Confirm that the network cable is securely connected to both the computer and the router.\n",
      "- Restart the router by unplugging it for 10 seconds and plugging it back in.\n",
      "- Check if the Wi-Fi is turned on, if using a wireless connection.\n",
      "- Run the network troubleshooter tool on your computer.\n",
      "- Verify the status of the network adapter in the device manager.\n",
      "- Reset the TCP/IP stack using the command prompt if problems persist.\n",
      "Question from Dispatcher Agent to Computer Agent: What are the steps taken to troubleshoot the computer issue?\n",
      "Sorry, I couldn't find an exact match. Please contact support.\n",
      "Question from Dispatcher Agent to Cooking Agent: The user is asking for a recipe for crepes with morels. What is the appropriate cooking method for this dish?\n",
      " For a delightful French crepe dish featuring morels, also known as morel mushrooms, here's a simple yet elegant recipe.\n",
      "\n",
      "Ingredients:\n",
      "1. 1 cup all-purpose flour\n",
      "2. 2 eggs\n",
      "3. 1 1/2 cups milk\n",
      "4. 1/4 cup melted butter, plus more for greasing the pan\n",
      "5. Salt, to taste\n",
      "6. 1 lb fresh morel mushrooms, cleaned and sliced\n",
      "7. 2 tbsp unsalted butter\n",
      "8. 2 shallots, finely chopped\n",
      "9. 1 cup heavy cream\n",
      "10. 1/2 cup dry white wine\n",
      "11. Freshly ground black pepper, to taste\n",
      "12. Chopped fresh chives, for garnish\n",
      "\n",
      "Cooking Method:\n",
      "\n",
      "1. In a large mixing bowl, whisk together the flour, eggs, milk, melted butter, and a pinch of salt until smooth. Allow the batter to rest for at least 30 minutes.\n",
      "\n",
      "2. While the batter rests, prepare the filling. In a large skillet, melt 2 tbsp of unsalted butter over medium heat. Add the sliced morels and shallots, sautéing until the mushrooms are tender and the shallots are translucent.\n",
      "\n",
      "3. Pour in the heavy cream and white wine, and simmer until the liquid has reduced by half. Season with salt and pepper to taste. Remove from heat and set aside.\n",
      "\n",
      "4. Preheat a non-stick skillet over medium-high heat. Brush the surface lightly with butter. Pour about 1/4 cup of the crepe batter into the skillet, swirling it around to evenly coat the bottom. Cook until the edges start to lift, about 1-2 minutes. Flip the crepe and cook for an additional 30 seconds. Repeat with the remaining batter.\n",
      "\n",
      "5. To assemble the crepes, spoon a generous amount of the morel filling onto the center of each crepe. Fold the crepe in half, then in half again to form a triangle. Garnish with fresh chives and serve immediately.\n",
      "\n",
      "Accompanying Wine: A dry white wine such as a Sancerre or Pouilly-Fumé would pair beautifully with this earthy and flavorful dish. Enjoy!\n",
      "Question from Dispatcher Agent to Cooking Agent: What is the recommended serving size for crepes with morels?\n",
      " For a delightful serving of crepes with morels, I recommend preparing about 6-8 crepes per person, depending on their appetite. This should provide a satisfying amount of the dish.\n",
      "\n",
      "Here's a simple recipe for Crepes à la Morelle, a traditional French dish:\n",
      "\n",
      "Ingredients:\n",
      "- 1 cup all-purpose flour\n",
      "- 2 eggs\n",
      "- 1/2 cup milk\n",
      "- 1/2 cup water\n",
      "- 1/4 teaspoon salt\n",
      "- 2 tablespoons unsalted butter, melted\n",
      "- 1 pound fresh morels, cleaned and sliced\n",
      "- 2 tablespoons unsalted butter\n",
      "- 1 small shallot, finely chopped\n",
      "- 1 cup heavy cream\n",
      "- 1/2 cup chicken broth\n",
      "- Salt and pepper to taste\n",
      "- Chopped fresh chives for garnish\n",
      "\n",
      "Instructions:\n",
      "1. In a large mixing bowl, whisk together the flour, eggs, milk, water, salt, and melted butter until smooth. Let the batter rest for at least 30 minutes.\n",
      "2. Heat a non-stick skillet over medium-high heat. Pour 1/4 cup of the batter into the skillet, swirling it around to evenly coat the bottom. Cook until the edges start to lift, about 1-2 minutes, then flip and cook for another 30 seconds. Repeat with the remaining batter.\n",
      "3. In a large saucepan, melt 2 tablespoons of butter over medium heat. Add the shallot and cook until softened, about 2 minutes.\n",
      "4. Add the morels to the saucepan and cook for 3-4 minutes, until they've released their moisture and it has evaporated.\n",
      "5. Pour in the heavy cream and chicken broth, season with salt and pepper, and simmer for 5-7 minutes, until the sauce has thickened slightly.\n",
      "6. To assemble the crepes, place a crepe on a plate, spoon some of the morel mixture onto the center, fold the crepe in half, then in half again to form a triangle. Repeat with the remaining crepes and morel mixture.\n",
      "7. Drizzle the remaining sauce over the crepes and garnish with chopped fresh chives.\n",
      "\n",
      "To accompany this dish, I suggest a glass of white Burgundy, such as a Chardonnay from the Côte de Beaune, to complement the earthy flavors of the morels. Enjoy your meal!\n",
      "Question from Dispatcher Agent to Cooking Agent: What type of wine complements crepes with morels?\n",
      " For crepes with morels, a full-bodied white wine like a white Burgundy or a Chardonnay would be an excellent choice. The rich and earthy flavor of morels pairs well with the buttery and oaky notes in these wines. If you prefer a lighter option, a Sancerre or Pouilly-Fumé from the Loire Valley would also be a great match. Enjoy your meal!\n",
      "[['Computer', 'For this problem: No internet connection\\nFollow these instructions:\\n- Confirm that the network cable is securely connected to both the computer and the router.\\n- Restart the router by unplugging it for 10 seconds and plugging it back in.\\n- Check if the Wi-Fi is turned on, if using a wireless connection.\\n- Run the network troubleshooter tool on your computer.\\n- Verify the status of the network adapter in the device manager.\\n- Reset the TCP/IP stack using the command prompt if problems persist.'], ['Computer', \"Sorry, I couldn't find an exact match. Please contact support.\"], ['Cooking', \" For a delightful French crepe dish featuring morels, also known as morel mushrooms, here's a simple yet elegant recipe.\\n\\nIngredients:\\n1. 1 cup all-purpose flour\\n2. 2 eggs\\n3. 1 1/2 cups milk\\n4. 1/4 cup melted butter, plus more for greasing the pan\\n5. Salt, to taste\\n6. 1 lb fresh morel mushrooms, cleaned and sliced\\n7. 2 tbsp unsalted butter\\n8. 2 shallots, finely chopped\\n9. 1 cup heavy cream\\n10. 1/2 cup dry white wine\\n11. Freshly ground black pepper, to taste\\n12. Chopped fresh chives, for garnish\\n\\nCooking Method:\\n\\n1. In a large mixing bowl, whisk together the flour, eggs, milk, melted butter, and a pinch of salt until smooth. Allow the batter to rest for at least 30 minutes.\\n\\n2. While the batter rests, prepare the filling. In a large skillet, melt 2 tbsp of unsalted butter over medium heat. Add the sliced morels and shallots, sautéing until the mushrooms are tender and the shallots are translucent.\\n\\n3. Pour in the heavy cream and white wine, and simmer until the liquid has reduced by half. Season with salt and pepper to taste. Remove from heat and set aside.\\n\\n4. Preheat a non-stick skillet over medium-high heat. Brush the surface lightly with butter. Pour about 1/4 cup of the crepe batter into the skillet, swirling it around to evenly coat the bottom. Cook until the edges start to lift, about 1-2 minutes. Flip the crepe and cook for an additional 30 seconds. Repeat with the remaining batter.\\n\\n5. To assemble the crepes, spoon a generous amount of the morel filling onto the center of each crepe. Fold the crepe in half, then in half again to form a triangle. Garnish with fresh chives and serve immediately.\\n\\nAccompanying Wine: A dry white wine such as a Sancerre or Pouilly-Fumé would pair beautifully with this earthy and flavorful dish. Enjoy!\"], ['Cooking', \" For a delightful serving of crepes with morels, I recommend preparing about 6-8 crepes per person, depending on their appetite. This should provide a satisfying amount of the dish.\\n\\nHere's a simple recipe for Crepes à la Morelle, a traditional French dish:\\n\\nIngredients:\\n- 1 cup all-purpose flour\\n- 2 eggs\\n- 1/2 cup milk\\n- 1/2 cup water\\n- 1/4 teaspoon salt\\n- 2 tablespoons unsalted butter, melted\\n- 1 pound fresh morels, cleaned and sliced\\n- 2 tablespoons unsalted butter\\n- 1 small shallot, finely chopped\\n- 1 cup heavy cream\\n- 1/2 cup chicken broth\\n- Salt and pepper to taste\\n- Chopped fresh chives for garnish\\n\\nInstructions:\\n1. In a large mixing bowl, whisk together the flour, eggs, milk, water, salt, and melted butter until smooth. Let the batter rest for at least 30 minutes.\\n2. Heat a non-stick skillet over medium-high heat. Pour 1/4 cup of the batter into the skillet, swirling it around to evenly coat the bottom. Cook until the edges start to lift, about 1-2 minutes, then flip and cook for another 30 seconds. Repeat with the remaining batter.\\n3. In a large saucepan, melt 2 tablespoons of butter over medium heat. Add the shallot and cook until softened, about 2 minutes.\\n4. Add the morels to the saucepan and cook for 3-4 minutes, until they've released their moisture and it has evaporated.\\n5. Pour in the heavy cream and chicken broth, season with salt and pepper, and simmer for 5-7 minutes, until the sauce has thickened slightly.\\n6. To assemble the crepes, place a crepe on a plate, spoon some of the morel mixture onto the center, fold the crepe in half, then in half again to form a triangle. Repeat with the remaining crepes and morel mixture.\\n7. Drizzle the remaining sauce over the crepes and garnish with chopped fresh chives.\\n\\nTo accompany this dish, I suggest a glass of white Burgundy, such as a Chardonnay from the Côte de Beaune, to complement the earthy flavors of the morels. Enjoy your meal!\"], ['Cooking', ' For crepes with morels, a full-bodied white wine like a white Burgundy or a Chardonnay would be an excellent choice. The rich and earthy flavor of morels pairs well with the buttery and oaky notes in these wines. If you prefer a lighter option, a Sancerre or Pouilly-Fumé from the Loire Valley would also be a great match. Enjoy your meal!']]\n"
     ]
    }
   ],
   "source": [
    "from AgentDispatcher import AgentDispatcher\n",
    "test_agent = AgentDispatcher()\n",
    "test_question = (\n",
    "    # \"Salut, ça va ?\"\n",
    "    \"Mon PC ne marche plus, je ne peux plus accéder à internet. En plus, mon chien a la truffe chaude. J'ai besoin d'une recette pour des crêpes aux morilles. Quel vin mettre avec ?\"\n",
    "    )\n",
    "print(\"Analyzing...\")\n",
    "dispatch = test_agent.dispatch(test_question)\n",
    "print(f\"Dispatcher result:\\n{str(dispatch)}\")\n"
   ]
  },
  {
   "cell_type": "code",
   "execution_count": null,
   "metadata": {},
   "outputs": [],
   "source": [
    "from AgentCooking import AgentCooking\n",
    "test_agent = AgentCooking()\n",
    "test_question = \"Donne-moi une recette de galette à l'andouille avec du Porto.\"\n",
    "print(\"Analyzing...\")\n",
    "answer = test_agent.chat_assistant(test_question)\n",
    "print(answer)\n"
   ]
  },
  {
   "cell_type": "code",
   "execution_count": null,
   "metadata": {},
   "outputs": [],
   "source": [
    "from AgentSupport import AgentSupport\n",
    "import asyncio\n",
    "\n",
    "agent = AgentSupport()\n",
    "answer = agent.chat_assistant(\n",
    "    # \"Bonjour, je m'appelle Roger, je suis à la maison avec mon chat. Où puis-je lui trouver à manger ? Quand je cherche sur internet, ça prend trop de temps à répondre et je l'audio est trop mauvais.\"\n",
    "    \"Salut, c'est Slvy. Je voudrais me faire un hamburger, mais mon PC ne s'allume pas.\"\n",
    "    )\n",
    "print(f\"Support answer:\\n{answer}\")\n"
   ]
  }
 ],
 "metadata": {
  "kernelspec": {
   "display_name": ".venv",
   "language": "python",
   "name": "python3"
  },
  "language_info": {
   "codemirror_mode": {
    "name": "ipython",
    "version": 3
   },
   "file_extension": ".py",
   "mimetype": "text/x-python",
   "name": "python",
   "nbconvert_exporter": "python",
   "pygments_lexer": "ipython3",
   "version": "3.12.3"
  }
 },
 "nbformat": 4,
 "nbformat_minor": 2
}
